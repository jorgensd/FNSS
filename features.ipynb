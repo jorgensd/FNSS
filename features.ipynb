{
 "cells": [
  {
   "cell_type": "markdown",
   "metadata": {},
   "source": [
    "# Feature extraction\n",
    "Given that we have transformed the time-dependent signal into the frequency domain, we can extract features from it."
   ]
  },
  {
   "cell_type": "code",
   "execution_count": 1,
   "metadata": {},
   "outputs": [],
   "source": [
    "import numpy as np\n",
    "import numpy.typing as npt\n",
    "import matplotlib.pyplot as plt\n",
    "from typing import Tuple\n",
    "from ipywidgets import widgets\n",
    "ws = {'description_width': 'initial'}\n",
    "\n",
    "\n",
    "def generate_signal_and_fft(T:float, fA:int, fB:int, use_hamming:bool, noisy:bool, sampling_rate:int):\n",
    "    t = np.linspace(0, T, int(T*sampling_rate), endpoint=False)\n",
    "    N = len(t)\n",
    "    signal = 2.3 * np.cos(2*np.pi*fA*t) + 4 * np.sin(2*np.pi*fB*t)\n",
    "    hamming = np.hamming(N) if use_hamming else np.ones(N)\n",
    "    noise = np.random.randn(N) if noisy else 0\n",
    "    noisy_signal = (signal + noise)*hamming\n",
    "    fft = np.fft.rfft(noisy_signal)\n",
    "    frequencies = np.fft.rfftfreq(len(noisy_signal), d=1./sampling_rate)\n",
    "    return (t, signal), (frequencies, fft)"
   ]
  },
  {
   "cell_type": "markdown",
   "metadata": {},
   "source": [
    "We can now extract some features from this plot, like the expected value $E[\\vert\\hat x\\vert]=\\frac{1}{N}\\sum_{n=0}^{N-1} \\vert \\hat x_n \\vert$ of the amplitude, $y=\\vert \\hat x \\vert$, $y_n=\\vert \\hat x_n \\vert$."
   ]
  },
  {
   "cell_type": "code",
   "execution_count": 2,
   "metadata": {},
   "outputs": [],
   "source": [
    "(t, signal), (frequencies, fft) = generate_signal_and_fft(T=10, fA=1, fB=3, \n",
    "                                                          use_hamming=True, noisy=False, sampling_rate=32)\n",
    "y = np.abs(fft)\n",
    "mu = np.sum(y)/len(y)"
   ]
  },
  {
   "cell_type": "markdown",
   "metadata": {},
   "source": [
    "The variance of the signal is $\\mathrm{Var}[y]=E[(y - E(y))^2]=\\frac{1}{N}\\sum_{n=0}^{N-1} \\left( \\hat y_n - \\frac{1}{N}\\sum_{n=0}^{N-1} y_n \\right)^2$\n"
   ]
  },
  {
   "cell_type": "code",
   "execution_count": 3,
   "metadata": {},
   "outputs": [],
   "source": [
    "sigma = np.sum((y -mu)**2)/len(y)"
   ]
  },
  {
   "cell_type": "markdown",
   "metadata": {},
   "source": [
    "We print the two features"
   ]
  },
  {
   "cell_type": "code",
   "execution_count": 4,
   "metadata": {},
   "outputs": [
    {
     "name": "stdout",
     "output_type": "stream",
     "text": [
      "Expected frequency amplitude 6.27e+00, frequency variance 1.30e+03\n"
     ]
    }
   ],
   "source": [
    "print(f\"Expected frequency amplitude {mu:.2e}, frequency variance {sigma:.2e}\")"
   ]
  },
  {
   "cell_type": "markdown",
   "metadata": {},
   "source": [
    "We can also compute the RMS value of the Power Spectral density for $N$ number of bands"
   ]
  },
  {
   "cell_type": "code",
   "execution_count": 5,
   "metadata": {},
   "outputs": [
    {
     "data": {
      "application/vnd.jupyter.widget-view+json": {
       "model_id": "fe32ba4c3d8147dc9d14bfb4f9fa0e74",
       "version_major": 2,
       "version_minor": 0
      },
      "text/plain": [
       "interactive(children=(ToggleButtons(description='Sampling rate (Hz)', options=(20000, 40001), style=ToggleButt…"
      ]
     },
     "metadata": {},
     "output_type": "display_data"
    }
   ],
   "source": [
    "@widgets.interact(\n",
    "    use_hamming=widgets.Checkbox(value=True, description=\"Hamming\"),\n",
    "    noisy_signal=widgets.Checkbox(value=True, description=\"Noise\"),\n",
    "    sampling_rate=widgets.ToggleButtons(options=[20000, 40001],description=\"Sampling rate (Hz)\", style=ws),\n",
    "    fA=widgets.Select(options=[100,1000,5000], value=100, description='fA', disabled=False),\n",
    "    fB=widgets.Select(options=[500,8000,9000], value=8000, description='fB', disabled=False),\n",
    "    N=widgets.IntSlider(4, min=1, max=33, description=\"Number of bins\",style=ws))\n",
    "def RMS_PSD(sampling_rate:int, use_hamming:bool, noisy_signal:bool, N:int, fA:int, fB:int):\n",
    "    \"\"\"\n",
    "    Compute the root mean square of the power spectral density of \n",
    "    a discrete Fourier series by subdividing the frequencies\n",
    "    into `N` number of bins\n",
    "    \"\"\"\n",
    "    T = 1\n",
    "    (t, signal), (frequencies, fft) = generate_signal_and_fft(T, fA, fB, use_hamming, noisy_signal, sampling_rate)\n",
    "    df = frequencies[1] - frequencies[0]\n",
    "    f_per_band = len(fft)//N\n",
    "    rem = len(fft)%N\n",
    "    freq_per_band = np.full(N, f_per_band, dtype=np.int32)\n",
    "    freq_per_band[:rem]+=1\n",
    "    offsets= np.zeros(N+1, dtype=np.int32)\n",
    "    offsets[1:] = np.cumsum(freq_per_band)\n",
    "    RMS = np.zeros(N, dtype=np.float64)\n",
    "    mid = np.zeros(N, dtype=np.int32)\n",
    "    width = np.zeros(N, dtype=np.float64)\n",
    "    for i in range(N):\n",
    "        mid[i] = offsets[i] + int((offsets[i+1]-offsets[i])/2)\n",
    "        width[i] = df*freq_per_band[i]\n",
    "        psd = np.abs(fft[offsets[i]:offsets[i+1]])**2\n",
    "        RMS[i] = np.sqrt(1/len(signal)*np.sum(psd**2))\n",
    "    \n",
    "    fig = plt.figure()\n",
    "    plt.title(f\"Root mean square of Power Spectral Density with {N} bins\")\n",
    "    plt.grid()\n",
    "    plt.bar(frequencies[mid], RMS, width=width)\n",
    "    plt.gca().set_yscale('log')"
   ]
  },
  {
   "cell_type": "markdown",
   "metadata": {},
   "source": [
    "As we can see in the previous widget, the spectral power density changes with the sampling frequency, and is a rather large number $\\mathcal{O}(10^4-10^6)$. If we would like the feature to be sampling rate invariant, we would need to chose another feature."
   ]
  },
  {
   "cell_type": "markdown",
   "metadata": {},
   "source": [
    "## Sampling frequency robust feature\n",
    "A more robust feature would be taking the frequency amplitudes of the signal, namely\n",
    "$A(f_j)=\\frac{1}{N}\\vert \\hat x(f_j)\\vert$, where $N$ are the number of input signals, and we take the RMS over a set of bins."
   ]
  },
  {
   "cell_type": "code",
   "execution_count": 6,
   "metadata": {},
   "outputs": [
    {
     "data": {
      "application/vnd.jupyter.widget-view+json": {
       "model_id": "ff448ceda6aa4f328cb7604fae3e4fb9",
       "version_major": 2,
       "version_minor": 0
      },
      "text/plain": [
       "interactive(children=(ToggleButtons(description='Sampling rate (Hz)', options=(20000, 40001), style=ToggleButt…"
      ]
     },
     "metadata": {},
     "output_type": "display_data"
    }
   ],
   "source": [
    "@widgets.interact(\n",
    "    use_hamming=widgets.Checkbox(value=True, description=\"Hamming\"),\n",
    "    noisy_signal=widgets.Checkbox(value=True, description=\"Noise\"),\n",
    "    sampling_rate=widgets.ToggleButtons(options=[20000, 40001],description=\"Sampling rate (Hz)\", style=ws),\n",
    "    fA=widgets.Select(options=[100,1000,5000], value=100, description='fA', disabled=False),\n",
    "    fB=widgets.Select(options=[500,8000,9000], value=8000, description='fB', disabled=False),\n",
    "    M=widgets.IntSlider(100, min=1, max=1000, description=\"Number of bins\",style=ws))\n",
    "def amplitude_bins(sampling_rate:int, use_hamming:bool, noisy_signal:bool, M:int, fA:int, fB:int):\n",
    "    T = 2\n",
    "    (t, signal), (frequencies, fft) = generate_signal_and_fft(T, fA, fB, use_hamming, noisy_signal, sampling_rate)\n",
    "    N = len(signal)\n",
    "\n",
    "    # Compute frequency intervals\n",
    "    f_per_band = len(frequencies) // M\n",
    "    rem = len(frequencies) % M\n",
    "    freq_per_band = np.full(M, f_per_band, dtype=np.int32)\n",
    "    freq_per_band[:rem]+=1\n",
    "    \n",
    "    offsets= np.zeros(M+1, dtype=np.int32)\n",
    "    offsets[1:] = np.cumsum(freq_per_band)\n",
    "    RMS = np.zeros(M, dtype=np.float64)\n",
    "    mid = np.zeros(M, dtype=np.int32)\n",
    "    width = np.zeros(M, dtype=np.float64)\n",
    "\n",
    "    mag = 1. / N * np.abs(fft)\n",
    "\n",
    "    fig = plt.figure()\n",
    "    plt.title(\"Frequency Amplitude\")\n",
    "    plt.plot(frequencies, mag)\n",
    "    plt.grid()\n",
    "\n",
    "    RMS_amplitude = np.zeros(M, dtype=np.float64)\n",
    "    for i in range(M):\n",
    "        RMS_amplitude[i] = np.sqrt(1/(offsets[i+1]-offsets[i])*np.sum(mag[offsets[i]:offsets[i+1]]**2))\n",
    "        mid[i] = offsets[i] + int((offsets[i+1]-offsets[i])/2)\n",
    "        width[i] = (offsets[i+1]-offsets[i])/2\n",
    "    plt.figure()\n",
    "    plt.bar(frequencies[mid], RMS_amplitude, width)\n",
    "    plt.gca().set_yscale('log')"
   ]
  },
  {
   "cell_type": "code",
   "execution_count": null,
   "metadata": {},
   "outputs": [],
   "source": []
  }
 ],
 "metadata": {
  "kernelspec": {
   "display_name": "Python 3 (ipykernel)",
   "language": "python",
   "name": "python3"
  },
  "language_info": {
   "codemirror_mode": {
    "name": "ipython",
    "version": 3
   },
   "file_extension": ".py",
   "mimetype": "text/x-python",
   "name": "python",
   "nbconvert_exporter": "python",
   "pygments_lexer": "ipython3",
   "version": "3.10.8"
  },
  "vscode": {
   "interpreter": {
    "hash": "0a82da2aa2fcafa3b3405194ad8c9ca9599eb5e8c5eb40e388ca8afe6fe19964"
   }
  }
 },
 "nbformat": 4,
 "nbformat_minor": 4
}
