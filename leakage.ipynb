{
 "cells": [
  {
   "cell_type": "markdown",
   "metadata": {},
   "source": [
    "# Spectral leakage - non-periodic signals\n",
    "In many real world applications, we do not have measurements that are perfectly periodic.\n",
    "Consider the the following signal $\\sin(2\\pi t)$, $t\\in[0, T]$.\n",
    "If $T=[1,2,\\dots]$, the signal is perfectly periodic.\n",
    "However, changing the period of the signal such that the sampled data is not periodic, results in smearing of the FFT amplitudes.\n",
    "To counteract this behavior, we can use [windowing](https://en.wikipedia.org/wiki/Window_function).\n",
    "We use the Hamming window to illustrate this for the signal $x(t)=\\cos(2\\pi f t), t\\in[0, T)$"
   ]
  },
  {
   "cell_type": "code",
   "execution_count": 1,
   "metadata": {},
   "outputs": [
    {
     "data": {
      "application/vnd.jupyter.widget-view+json": {
       "model_id": "d47731c5bdc7402db5d0034853e224d9",
       "version_major": 2,
       "version_minor": 0
      },
      "text/plain": [
       "interactive(children=(FloatSlider(value=5.3, description='T', max=10.0, min=5.0), IntSlider(value=20, descript…"
      ]
     },
     "metadata": {},
     "output_type": "display_data"
    }
   ],
   "source": [
    "from ipywidgets import widgets\n",
    "import numpy as np\n",
    "import matplotlib.pyplot as plt\n",
    "\n",
    "@widgets.interact(\n",
    "    T=widgets.FloatSlider(5.3, min=5, max=10), sampling_rate=(10, 30), frequency=(1,5))\n",
    "def FFT_hamming(T:float, sampling_rate:int, frequency:float):\n",
    "    ts = np.linspace(0, T, int(T*sampling_rate), endpoint=False)\n",
    "    signal = np.cos(2*np.pi*ts*frequency)\n",
    "\n",
    "    hamming = np.hamming(len(signal))\n",
    "    plt.figure()\n",
    "    plt.subplot(211)\n",
    "    plt.plot(ts, hamming, \"-ms\", label=\"Hamming window\")\n",
    "    plt.plot(ts, hamming*signal, \"--bo\", label=\"Hamming Signal\")\n",
    "    plt.plot(ts, signal, \"--r\", label=\"Signal\")\n",
    "    plt.legend()\n",
    "\n",
    "    fft_ham = np.fft.rfft(hamming*signal, n=len(signal))\n",
    "    frequencies_ham = np.fft.rfftfreq(len(signal), 1./sampling_rate)\n",
    "    plt.subplot(212)\n",
    "\n",
    "    fft = np.fft.rfft(signal, n=len(signal))\n",
    "    frequencies = np.fft.rfftfreq(len(signal), 1./sampling_rate)\n",
    "\n",
    "    plt.stem(frequencies, np.abs(fft)/len(signal), linefmt=\"r-\", markerfmt=\"rs\", basefmt=\"r\", label=\"FFT\")\n",
    "    plt.stem(frequencies_ham, np.abs(fft_ham)/len(signal), linefmt=\"b-\", markerfmt=\"bo\", basefmt=\"b\",\n",
    "     label=\"FFT Hamming\")\n",
    "\n",
    "    plt.legend()\n",
    "    plt.grid()\n",
    "    plt.show()\n",
    "\n"
   ]
  },
  {
   "cell_type": "markdown",
   "metadata": {},
   "source": [
    "We can look at this combined with noise in the following widget for the signal\n",
    "$$\n",
    "x(t) = 2.3 \\cos(2\\pi t) + 4 \\sin(12\\pi t) + A \\cdot noise\n",
    "$$"
   ]
  },
  {
   "cell_type": "code",
   "execution_count": 13,
   "metadata": {},
   "outputs": [
    {
     "data": {
      "application/vnd.jupyter.widget-view+json": {
       "model_id": "f61ed45e891641faa390464efd58aae4",
       "version_major": 2,
       "version_minor": 0
      },
      "text/plain": [
       "interactive(children=(ToggleButtons(description='Sampling rate (Hz)', options=(16, 32, 64), style=ToggleButton…"
      ]
     },
     "metadata": {},
     "output_type": "display_data"
    }
   ],
   "source": [
    "ws = {'description_width': 'initial'}\n",
    "\n",
    "def generate_signal_and_fft(T:float, use_hamming:bool, sampling_rate:int, noise:bool):\n",
    "    t = np.linspace(0, T, int(T*sampling_rate), endpoint=False)\n",
    "    N = len(t)\n",
    "    signal = 2.3 * np.cos(2*np.pi*t) + 4 * np.sin(2*np.pi*6*t)\n",
    "    hamming = np.hamming(N) if use_hamming else np.ones(N)\n",
    "    noise = np.float64(noise)*np.random.randn(N)\n",
    "    windowed_signal = (signal + noise)*hamming\n",
    "    fft = np.fft.rfft(windowed_signal, n=N)\n",
    "    frequencies = np.fft.rfftfreq(len(windowed_signal), d=1./sampling_rate)\n",
    "    return (t, signal + noise, windowed_signal), (frequencies, fft)\n",
    "\n",
    "@widgets.interact(\n",
    "    use_hamming=widgets.Checkbox(value=True, description=\"Hamming\"),\n",
    "    noisy_signal=widgets.Checkbox(value=False, description=\"Noise\"),\n",
    "    sampling_rate=widgets.ToggleButtons(options=[16, 32, 64],description=\"Sampling rate (Hz)\",\n",
    "    style=ws),\n",
    "    T=widgets.FloatSlider(1.3, min=1, max=2, description=\"Simulation time (s)\",style=ws))\n",
    "def FFT(sampling_rate:int, T:float, use_hamming:bool, noisy_signal:bool):\n",
    "    (t, signal, wsignal), (frequencies, fft) = generate_signal_and_fft(T, noise=noisy_signal,\n",
    "                                                              use_hamming=use_hamming,\n",
    "                                                              sampling_rate=sampling_rate)\n",
    "    plt.figure(figsize=(15,8))\n",
    "    plt.subplot(121)\n",
    "    plt.title(\"Signal\")\n",
    "    plt.gca().set_xlabel(\"t\")\n",
    "    plt.gca().set_ylabel(\"x(t)\")\n",
    "    plt.plot(t,signal, label=\"Signal\")\n",
    "    if use_hamming:\n",
    "        plt.plot(t, wsignal, label=\"Windowed singal\")\n",
    "    plt.grid()\n",
    "    plt.legend()\n",
    "    plt.subplot(122)\n",
    "    plt.title(\"Power Spectrum Density\")\n",
    "    plt.stem(frequencies, np.abs(fft)**2)\n",
    "    plt.gca().set_xlabel(\"f\")\n",
    "    plt.gca().set_ylabel(\"PSD\")\n",
    "    plt.gca().set_yscale(\"log\")\n",
    "    plt.title(\"\")\n",
    "    plt.grid()\n",
    "    plt.show()\n"
   ]
  },
  {
   "cell_type": "markdown",
   "metadata": {},
   "source": []
  }
 ],
 "metadata": {
  "kernelspec": {
   "display_name": "Python 3 (ipykernel)",
   "language": "python",
   "name": "python3"
  },
  "language_info": {
   "codemirror_mode": {
    "name": "ipython",
    "version": 3
   },
   "file_extension": ".py",
   "mimetype": "text/x-python",
   "name": "python",
   "nbconvert_exporter": "python",
   "pygments_lexer": "ipython3",
   "version": "3.10.8"
  },
  "vscode": {
   "interpreter": {
    "hash": "0a82da2aa2fcafa3b3405194ad8c9ca9599eb5e8c5eb40e388ca8afe6fe19964"
   }
  }
 },
 "nbformat": 4,
 "nbformat_minor": 4
}
