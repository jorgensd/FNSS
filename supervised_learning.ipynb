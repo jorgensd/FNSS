{
 "cells": [
  {
   "cell_type": "markdown",
   "metadata": {},
   "source": [
    "# Supervised learning with Scikit-learn\n",
    "[Scikit-learn](http://scikit-learn.org/) is a Python module that implements some well-known machine learning algorithms. We will use [Matplotlib](http://matplotlib.org/) for visualizing data."
   ]
  },
  {
   "cell_type": "code",
   "execution_count": 105,
   "metadata": {},
   "outputs": [
    {
     "name": "stdout",
     "output_type": "stream",
     "text": [
      "You have Scikit-learn 1.2.0 installed\n"
     ]
    }
   ],
   "source": [
    "import sklearn\n",
    "import matplotlib.pyplot as plt\n",
    "from ipywidgets import interactive, widgets\n",
    "from IPython.display import display, Audio\n",
    "print(f\"You have Scikit-learn {sklearn.__version__} installed\")"
   ]
  },
  {
   "attachments": {},
   "cell_type": "markdown",
   "metadata": {},
   "source": [
    "We generate a slider to set sample frequency for the whole notebook"
   ]
  },
  {
   "cell_type": "code",
   "execution_count": 106,
   "metadata": {},
   "outputs": [
    {
     "data": {
      "application/vnd.jupyter.widget-view+json": {
       "model_id": "f2a8ba79a955405ca90619ef8677ed2b",
       "version_major": 2,
       "version_minor": 0
      },
      "text/plain": [
       "IntSlider(value=40000, description='Sample frequency (hZ)', max=50000, min=10000, style=SliderStyle(descriptio…"
      ]
     },
     "metadata": {},
     "output_type": "display_data"
    }
   ],
   "source": [
    "ws = {'description_width': 'initial'}\n",
    "sample_rate = widgets.IntSlider(40000, min=10000, max=50000, description=\"Sample frequency (hZ)\", style=ws)\n",
    "display(sample_rate)"
   ]
  },
  {
   "cell_type": "code",
   "execution_count": 107,
   "metadata": {},
   "outputs": [],
   "source": [
    "import numpy as np\n",
    "import numpy.typing as npt\n",
    "def generate_noisy_signal(\n",
    "    sample_frequency: int,\n",
    "    amplitudes: npt.NDArray[np.float64],\n",
    "    frequencies: npt.NDArray[np.float64],\n",
    "    phases: npt.NDArray[np.float64], noise: float=1, T:float=2.):\n",
    "    N = int(T*sample_frequency)\n",
    "    t = np.linspace(0, T, N, endpoint=False)\n",
    "    assert len(frequencies) == len(phases)\n",
    "    assert len(amplitudes) == len(phases)\n",
    "    n = noise*np.random.randn(len(t))\n",
    "    return t, n+sum([A*np.cos(2*np.pi*f*t+p) for (A,f,p) in zip(amplitudes, frequencies, phases)])"
   ]
  },
  {
   "cell_type": "markdown",
   "metadata": {},
   "source": [
    "We generate some audio signals, defined by two frequencies, including noise.\n",
    "Use the widget below to play the sounds corresponding to different input."
   ]
  },
  {
   "cell_type": "code",
   "execution_count": 108,
   "metadata": {},
   "outputs": [
    {
     "data": {
      "application/vnd.jupyter.widget-view+json": {
       "model_id": "51a6af7a66cf475496837d37dfb5c0bb",
       "version_major": 2,
       "version_minor": 0
      },
      "text/plain": [
       "interactive(children=(FloatSlider(value=0.5, description='Amplitude of wave 1', max=4.0, style=SliderStyle(des…"
      ]
     },
     "metadata": {},
     "output_type": "display_data"
    }
   ],
   "source": [
    "@widgets.interact(\n",
    "    A=widgets.FloatSlider(0.5, min=0, max=4, description=\"Amplitude of wave 1\", style=ws),\n",
    "    B=widgets.FloatSlider(3, min=0, max=4, description=\"Amplitude of wave 2\", style=ws),\n",
    "    fA=widgets.IntSlider(100, min=20, max=20000, description=\"Frequency of wave 1\", style=ws),\n",
    "    fB=widgets.IntSlider(10000, min=20, max=20000, description=\"Frequency of wave 2\", style=ws),\n",
    "    noise=widgets.FloatSlider(3, min=0, max=4, description=\"Amplitude of noise\", style=ws)\n",
    ")\n",
    "def generate_sound(A: float, B:float, fA:float, fB:float, noise: float):\n",
    "    T = 2\n",
    "    pA, pB = 0, 0\n",
    "    print(sample_rate.value)\n",
    "    _, signal = generate_noisy_signal(sample_rate.value, np.array([A, B]), np.array([fA, fB]), np.array([pA, pB]),\n",
    "                                      noise=noise, T=T)\n",
    "    audio = Audio(signal, rate=sample_rate.value, autoplay=True)\n",
    "    display(audio)\n",
    "\n"
   ]
  },
  {
   "cell_type": "markdown",
   "metadata": {},
   "source": [
    "Next, we extract a few features:\n",
    "1. The expected value `E` and variance `S` of the signal\n",
    "2. The RMS values of the PSD over 10 windows."
   ]
  },
  {
   "cell_type": "code",
   "execution_count": 109,
   "metadata": {},
   "outputs": [],
   "source": [
    "def extract_features(signal:npt.NDArray[np.float64], num_windows:int=10):\n",
    "    E = 1/len(signal) * sum(signal)\n",
    "    S = 1/len(signal) * sum((signal-E)**2)\n",
    "    rfft = np.fft.rfft(signal)\n",
    "    f_per_band = len(rfft)//num_windows\n",
    "    rem = len(rfft) % num_windows\n",
    "    freq_per_band = np.full(num_windows, f_per_band, dtype=np.int32)\n",
    "    freq_per_band[:rem]+=1\n",
    "    offsets= np.zeros(num_windows+1, dtype=np.int32)\n",
    "    offsets[1:] = np.cumsum(freq_per_band)\n",
    "    RMS = np.zeros(num_windows, dtype=np.float64)\n",
    "    for i in range(num_windows):\n",
    "        amps = np.abs(rfft[offsets[i]:offsets[i+1]])**2\n",
    "        RMS[i] = np.sqrt(1/len(amps)*np.sum(amps**2))\n",
    "    fft = np.fft.fft(signal)\n",
    "    mag = np.abs(rfft)\n",
    "    return np.hstack([E, S, RMS])\n"
   ]
  },
  {
   "attachments": {},
   "cell_type": "markdown",
   "metadata": {},
   "source": [
    "We now need to generate a database of labeled signals, that we know are high-frequent. We define a high frequent sound as any frequency over 8 kHz. We label high-frequency signals with `2`, low frequency with `1`."
   ]
  },
  {
   "cell_type": "code",
   "execution_count": 110,
   "metadata": {},
   "outputs": [
    {
     "name": "stderr",
     "output_type": "stream",
     "text": [
      "/tmp/ipykernel_10039/1152432844.py:7: DeprecationWarning: This function is deprecated. Please call randint(0, 1 + 1) instead\n",
      "  noise = rs.uniform(-2, 2, size=num_samples) * rs.random_integers(0,1, size=num_samples)\n"
     ]
    }
   ],
   "source": [
    "from numpy.random import MT19937, RandomState, SeedSequence\n",
    "rs = RandomState(MT19937(SeedSequence(123456789)))\n",
    "\n",
    "def generate_database(num_samples:int=100, T:float=2, num_windows:int=2):\n",
    "    A = rs.uniform(-10, 10, size=num_samples)\n",
    "    phase = np.pi * rs.random(num_samples)\n",
    "    noise = rs.uniform(-2, 2, size=num_samples) * rs.random_integers(0,1, size=num_samples)\n",
    "    frequencies = rs.uniform(0, 20000, size=num_samples) \n",
    "    features = np.zeros((num_samples, num_windows+2))\n",
    "    labels = np.zeros(num_samples, dtype=np.int32)\n",
    "    for i in range(num_samples):\n",
    "        _, signal = generate_noisy_signal(sample_rate.value, A[i:i+1], frequencies[i:i+1],\n",
    "                                          phase[i:i+1],noise[i:i+1], T)\n",
    "        features[i] = extract_features(signal, num_windows)\n",
    "        labels[i] = 1 + np.int32(frequencies[i] > 8e3)\n",
    "    target_map = {1:\"low\", 2:\"high\"}\n",
    "    feature_names = [\"Expected value\", \"Variance\"] + [f\"RMS of PSD of {i+1}th window\" for i in range(num_windows)]\n",
    "\n",
    "    return features, labels, feature_names, target_map\n",
    "\n",
    "num_samples = 250\n",
    "num_windows = 10\n",
    "features, labels, feature_names, target_map = generate_database(num_samples=num_samples, num_windows=num_windows)"
   ]
  },
  {
   "attachments": {},
   "cell_type": "markdown",
   "metadata": {},
   "source": [
    "As the features are `num_windows + 2`-dimensional, we cannot visualize it easily. However, we can visualize 2 features at the time. We observe that it is not easy to spot clear correlation between each individual feature"
   ]
  },
  {
   "cell_type": "code",
   "execution_count": 113,
   "metadata": {},
   "outputs": [
    {
     "data": {
      "application/vnd.jupyter.widget-view+json": {
       "model_id": "f211d5683d544dde842a983dad23ef48",
       "version_major": 2,
       "version_minor": 0
      },
      "text/plain": [
       "interactive(children=(IntSlider(value=0, description='First feature', max=11), IntSlider(value=1, description=…"
      ]
     },
     "metadata": {},
     "output_type": "display_data"
    }
   ],
   "source": [
    "%matplotlib inline\n",
    "@widgets.interact(\n",
    "    f0=widgets.IntSlider(0, 0, num_windows+1, description=\"First feature\"),\n",
    "    f1=widgets.IntSlider(1, 0, num_windows+1, description=\"Second feature\")\n",
    ")\n",
    "def visualize_features(f0:int, f1:int):\n",
    "    target_labels = list(target_map.keys())\n",
    "    formatter = plt.FuncFormatter(lambda i, *args: target_map[i])\n",
    "\n",
    "    plt.scatter(features[:,f0], features[:,f1], c=labels,\n",
    "                cmap=plt.cm.get_cmap('viridis', len(target_labels)))\n",
    "    plt.colorbar(ticks=target_labels, format=formatter)\n",
    "\n",
    "    plt.xlabel(feature_names[f0])\n",
    "    plt.ylabel(feature_names[f1])\n"
   ]
  },
  {
   "attachments": {},
   "cell_type": "markdown",
   "metadata": {},
   "source": [
    "We use the K-nearest neighborhood to classify the following signal\n",
    "$x(t) = 10 \\cos(2\\pi\\cdot5000 t) + 5 \\sin(2\\pi\\cdot 200 t)$"
   ]
  },
  {
   "cell_type": "code",
   "execution_count": 123,
   "metadata": {},
   "outputs": [
    {
     "data": {
      "application/vnd.jupyter.widget-view+json": {
       "model_id": "e2a2955c1f8b419fa08188ea84c6b99b",
       "version_major": 2,
       "version_minor": 0
      },
      "text/plain": [
       "interactive(children=(FloatSlider(value=0.5, description='Amplitude of wave 1', max=4.0, style=SliderStyle(des…"
      ]
     },
     "metadata": {},
     "output_type": "display_data"
    }
   ],
   "source": [
    "%matplotlib inline\n",
    "from sklearn.neighbors import KNeighborsClassifier\n",
    "\n",
    "@widgets.interact(\n",
    "    A=widgets.FloatSlider(0.5, min=0, max=4, description=\"Amplitude of wave 1\", style=ws),\n",
    "    B=widgets.FloatSlider(3, min=0, max=4, description=\"Amplitude of wave 2\", style=ws),\n",
    "    fA=widgets.IntSlider(100, min=20, max=20000, description=\"Frequency of wave 1\", style=ws),\n",
    "    fB=widgets.IntSlider(10000, min=20, max=20000, description=\"Frequency of wave 2\", style=ws),\n",
    "    noise=widgets.FloatSlider(3, min=0, max=4, description=\"Amplitude of noise\", style=ws),\n",
    "    f0=widgets.IntSlider(0, 0, num_windows+1, description=\"First feature\"),\n",
    "    f1=widgets.IntSlider(1, 0, num_windows+1, description=\"Second feature\"),\n",
    "    K=widgets.IntSlider(5,1,10, description=\"Num neighbors\"),\n",
    "    weights=widgets.Select(options=['uniform', \"distance\"], value='distance', description='Weights:', disabled=False))\n",
    "def generate_sound(A: float, B:float, fA:float, fB:float, noise: float, f0:int, f1:int, weights:str, K:int):\n",
    "    T = 2\n",
    "    pA, pB = 0, 0\n",
    "    sample_rate = 44100\n",
    "    _, signal = generate_noisy_signal(sample_rate, np.array([A, B]), np.array([fA, fB]), np.array([pA, pB]),\n",
    "                                      noise=noise, T=T)\n",
    "    audio = Audio(signal, rate=sample_rate, autoplay=True)\n",
    "    display(audio)\n",
    "    target_labels = list(target_map.keys())\n",
    "    knn = KNeighborsClassifier(n_neighbors=K, weights=weights)\n",
    "    knn.fit(features, labels)\n",
    "\n",
    "    f = extract_features(signal, num_windows)\n",
    "    predicted_label = knn.predict(f.reshape(1,-1))\n",
    "    print(f\"Predict as a {target_map[predicted_label[0]]} ({predicted_label[0]}) frequent sound\")\n",
    "\n",
    "    formatter = plt.FuncFormatter(lambda i, *args: target_map[i])\n",
    "  \n",
    "    c_f = extract_features(signal, num_windows=num_windows)\n",
    "    plt.scatter(c_f[f0], c_f[f1], [50], marker=\"x\", c=predicted_label[0], label=\"Test\", zorder=2)\n",
    "    plt.scatter(features[:,f0], features[:,f1], c=labels,\n",
    "                cmap=plt.cm.get_cmap('viridis', len(target_labels)), label=\"Training data\", zorder=1)\n",
    "    plt.colorbar(ticks=target_labels, format=formatter)\n",
    "    plt.legend()\n",
    "    plt.xlabel(feature_names[f0])\n",
    "    plt.ylabel(feature_names[f1])\n",
    "\n"
   ]
  },
  {
   "cell_type": "code",
   "execution_count": null,
   "metadata": {},
   "outputs": [],
   "source": []
  }
 ],
 "metadata": {
  "kernelspec": {
   "display_name": "Python 3 (ipykernel)",
   "language": "python",
   "name": "python3"
  },
  "language_info": {
   "codemirror_mode": {
    "name": "ipython",
    "version": 3
   },
   "file_extension": ".py",
   "mimetype": "text/x-python",
   "name": "python",
   "nbconvert_exporter": "python",
   "pygments_lexer": "ipython3",
   "version": "3.10.8"
  },
  "vscode": {
   "interpreter": {
    "hash": "0a82da2aa2fcafa3b3405194ad8c9ca9599eb5e8c5eb40e388ca8afe6fe19964"
   }
  }
 },
 "nbformat": 4,
 "nbformat_minor": 4
}
