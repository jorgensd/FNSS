{
 "cells": [
  {
   "cell_type": "markdown",
   "metadata": {},
   "source": [
    "# Artificial Neural Networks (supervised)\n",
    "In this section, we will train an Artificial Neural network with the same input as we trained the KNN algorithm. We start by generating the signals and the database."
   ]
  },
  {
   "cell_type": "code",
   "execution_count": 1,
   "metadata": {},
   "outputs": [
    {
     "data": {
      "application/vnd.jupyter.widget-view+json": {
       "model_id": "5d575bbdd29a4b5dac394f8e7a82c5f0",
       "version_major": 2,
       "version_minor": 0
      },
      "text/plain": [
       "IntSlider(value=40000, description='Sample frequency (hZ)', max=50000, min=10000, style=SliderStyle(descriptio…"
      ]
     },
     "metadata": {},
     "output_type": "display_data"
    }
   ],
   "source": [
    "import numpy as np\n",
    "import numpy.typing as npt\n",
    "from sklearn.neural_network import MLPClassifier\n",
    "from sklearn.metrics import accuracy_score\n",
    "from sklearn.model_selection import train_test_split\n",
    "from numpy.random import MT19937, RandomState, SeedSequence\n",
    "from ipywidgets import widgets\n",
    "from IPython.display import display, Audio\n",
    "import matplotlib.pyplot as plt\n",
    "\n",
    "random_state = 123456789\n",
    "rs = RandomState(MT19937(SeedSequence(random_state)))\n",
    "ws = {'description_width': 'initial'}\n",
    "sample_rate = widgets.IntSlider(40000, min=10000, max=50000, description=\"Sample frequency (hZ)\", style=ws)\n",
    "display(sample_rate)"
   ]
  },
  {
   "cell_type": "code",
   "execution_count": 2,
   "metadata": {},
   "outputs": [],
   "source": [
    "def generate_noisy_signal(\n",
    "    sample_frequency: int,\n",
    "    amplitudes: npt.NDArray[np.float64],\n",
    "    frequencies: npt.NDArray[np.float64],\n",
    "    phases: npt.NDArray[np.float64], noise: float=1, T:float=2.):\n",
    "    N = int(T*sample_frequency)\n",
    "    t = np.linspace(0, T, N, endpoint=False)\n",
    "    assert len(frequencies) == len(phases)\n",
    "    assert len(amplitudes) == len(phases)\n",
    "    n = noise*np.random.randn(len(t))\n",
    "    return t, n+sum([A*np.cos(2*np.pi*f*t+p) for (A,f,p) in zip(amplitudes, frequencies, phases)])"
   ]
  },
  {
   "cell_type": "code",
   "execution_count": 3,
   "metadata": {},
   "outputs": [
    {
     "name": "stderr",
     "output_type": "stream",
     "text": [
      "/tmp/ipykernel_88337/3827608889.py:4: DeprecationWarning: This function is deprecated. Please call randint(0, 1 + 1) instead\n",
      "  noise = rs.uniform(-2, 2, size=num_samples) * rs.random_integers(0,1, size=num_samples)\n"
     ]
    }
   ],
   "source": [
    "def generate_database(num_samples:int, T:float, num_windows:int, high:int=3, low:int=7, threshold:int=8e3):\n",
    "    A = rs.uniform(-4, 4, size=num_samples)\n",
    "    phase = np.pi * rs.random(num_samples)\n",
    "    noise = rs.uniform(-2, 2, size=num_samples) * rs.random_integers(0,1, size=num_samples)\n",
    "    frequencies = rs.uniform(0, sample_rate.value//2, size=num_samples) \n",
    "    features = np.zeros((num_samples, num_windows))\n",
    "    labels = np.zeros(num_samples, dtype=np.int32)\n",
    "    for i in range(num_samples):\n",
    "        _, signal = generate_noisy_signal(sample_rate.value, A[i:i+1], frequencies[i:i+1],\n",
    "                                          phase[i:i+1],noise[i:i+1], T)\n",
    "        features[i] = extract_features(signal, num_windows, sample_rate.value)\n",
    "        labels[i] = high if frequencies[i]>threshold else low\n",
    "    target_map = {low:\"low\", high:\"high\"}\n",
    "    feature_names = [f\"Signal amplitude integrated in frequency window {i}\" for i in range(num_windows)]\n",
    "\n",
    "    return features, labels, feature_names, target_map\n",
    "\n",
    "def extract_features(signal:npt.NDArray[np.float64], N:int, sampling_frequency:int):\n",
    "    rfft = np.fft.rfft(signal)\n",
    "    f_per_band = len(rfft)//N\n",
    "    rem = len(rfft) % N\n",
    "    freq_per_band = np.full(N, f_per_band, dtype=np.int32)\n",
    "    freq_per_band[:rem]+=1\n",
    "    offsets= np.zeros(N+1, dtype=np.int32)\n",
    "    offsets[1:] = np.cumsum(freq_per_band)\n",
    "    RMS_amplitude = np.zeros(N, dtype=np.float64)\n",
    "    mag = 1/len(signal) * np.abs(rfft)\n",
    "    for i in range(N):\n",
    "        RMS_amplitude[i] = np.sqrt(1/(offsets[i+1]-offsets[i])*np.sum(mag[offsets[i]:offsets[i+1]]**2))\n",
    "    return RMS_amplitude\n",
    "\n",
    "T = 1\n",
    "num_samples = 1000\n",
    "num_windows = 25\n",
    "features, labels, feature_names, target_map = generate_database(T=T, num_samples=num_samples, num_windows=num_windows)\n",
    "X_train, X_test, y_train, y_test = train_test_split(features, labels, test_size=0.33, random_state=random_state)\n"
   ]
  },
  {
   "cell_type": "code",
   "execution_count": 12,
   "metadata": {},
   "outputs": [
    {
     "data": {
      "application/vnd.jupyter.widget-view+json": {
       "model_id": "86fca79ac45647568667a48da8ef670d",
       "version_major": 2,
       "version_minor": 0
      },
      "text/plain": [
       "interactive(children=(Select(description='Method for weight optimization:', options=('sgd', 'adam', 'lbfgs'), …"
      ]
     },
     "metadata": {},
     "output_type": "display_data"
    }
   ],
   "source": [
    "from sklearn.metrics import confusion_matrix, ConfusionMatrixDisplay\n",
    "@widgets.interact(\n",
    "    K=widgets.RadioButtons(options=[1,2,4,8], value=1,\n",
    "                           description='Number of hidden layers:',\n",
    "                           disabled=False, style=ws),\n",
    "    method=widgets.Select(options=['sgd', \"adam\", \"lbfgs\"], value='sgd',\n",
    "                           description='Method for weight optimization:',\n",
    "                           disabled=False, style=ws),\n",
    "    activation=widgets.Select(options=[\"relu\", \"identity\", \"tanh\", \"logistic\"], value='logistic',\n",
    "                           description='Activation function:',\n",
    "                           disabled=False, style=ws),\n",
    "    rate=widgets.FloatLogSlider(value=0.01, base=10, min=-5, max=0, step=0.5,\n",
    "                                description=\"Initial learning rate\", style=ws),\n",
    "    neurons=widgets.RadioButtons(options=[1,10,100,200,400], value=10,\n",
    "                                description=\"Neurons per layer\", style=ws),\n",
    "    verbose=widgets.Checkbox(value=False, description='Print training progress', disabled=False)\n",
    ")\n",
    "def test_and_train(method:str, K:int, activation:str, rate:float, neurons:int, verbose:bool):\n",
    "    target_labels = list(target_map.keys())\n",
    "    \n",
    "    hidden_layers = (neurons, ) * K\n",
    "    clf = MLPClassifier(solver=method, learning_rate_init=rate,\n",
    "                        random_state=random_state, hidden_layer_sizes=hidden_layers,\n",
    "                        activation=activation, verbose=verbose, learning_rate=\"adaptive\")\n",
    "    clf.fit(X_train, y_train)\n",
    "\n",
    "    predicted_train = clf.predict(X_train)\n",
    "    predicted_test = clf.predict(X_test)\n",
    "    print(f\"Train accuracy: {accuracy_score(y_train, predicted_train)}, {accuracy_score(y_train, predicted_train, normalize=False)}/{len(y_train)} correct\")\n",
    "    print(f\"Test accuracy: {accuracy_score(y_test, predicted_test)}, {accuracy_score(y_test, predicted_test, normalize=False)}/{len(y_test)} correct\")\n",
    "    disp = ConfusionMatrixDisplay(confusion_matrix(predicted_test,y_test))\n",
    "    disp.plot()"
   ]
  },
  {
   "cell_type": "code",
   "execution_count": null,
   "metadata": {},
   "outputs": [],
   "source": []
  },
  {
   "cell_type": "code",
   "execution_count": null,
   "metadata": {},
   "outputs": [],
   "source": []
  }
 ],
 "metadata": {
  "kernelspec": {
   "display_name": "Python 3 (ipykernel)",
   "language": "python",
   "name": "python3"
  },
  "language_info": {
   "codemirror_mode": {
    "name": "ipython",
    "version": 3
   },
   "file_extension": ".py",
   "mimetype": "text/x-python",
   "name": "python",
   "nbconvert_exporter": "python",
   "pygments_lexer": "ipython3",
   "version": "3.10.8"
  },
  "vscode": {
   "interpreter": {
    "hash": "916dbcbb3f70747c44a77c7bcd40155683ae19c65e1c03b4aa3499c5328201f1"
   }
  }
 },
 "nbformat": 4,
 "nbformat_minor": 4
}
