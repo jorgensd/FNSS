{
 "cells": [
  {
   "attachments": {},
   "cell_type": "markdown",
   "metadata": {},
   "source": [
    "# Artificial Neural Networks (supervised)\n",
    "In this section, we will train an Artificial Neural network with the same input as we trained the KNN algorithm. We start by generating the signals and the database."
   ]
  },
  {
   "cell_type": "code",
   "execution_count": 39,
   "metadata": {},
   "outputs": [
    {
     "data": {
      "application/vnd.jupyter.widget-view+json": {
       "model_id": "8f9e8ec385cc41ddb233f7ffbefa6e2e",
       "version_major": 2,
       "version_minor": 0
      },
      "text/plain": [
       "IntSlider(value=40000, description='Sample frequency (hZ)', max=50000, min=10000, style=SliderStyle(descriptio…"
      ]
     },
     "metadata": {},
     "output_type": "display_data"
    }
   ],
   "source": [
    "import numpy as np\n",
    "import numpy.typing as npt\n",
    "from sklearn.neural_network import MLPClassifier\n",
    "from sklearn.model_selection import train_test_split\n",
    "from numpy.random import MT19937, RandomState, SeedSequence\n",
    "from ipywidgets import widgets\n",
    "from IPython.display import display, Audio\n",
    "import matplotlib.pyplot as plt\n",
    "\n",
    "random_state = 123456789\n",
    "rs = RandomState(MT19937(SeedSequence(random_state)))\n",
    "ws = {'description_width': 'initial'}\n",
    "sample_rate = widgets.IntSlider(40000, min=10000, max=50000, description=\"Sample frequency (hZ)\", style=ws)\n",
    "display(sample_rate)"
   ]
  },
  {
   "cell_type": "code",
   "execution_count": 40,
   "metadata": {},
   "outputs": [],
   "source": [
    "def generate_noisy_signal(\n",
    "    sample_frequency: int,\n",
    "    amplitudes: npt.NDArray[np.float64],\n",
    "    frequencies: npt.NDArray[np.float64],\n",
    "    phases: npt.NDArray[np.float64], noise: float=1, T:float=2.):\n",
    "    N = int(T*sample_frequency)\n",
    "    t = np.linspace(0, T, N, endpoint=False)\n",
    "    assert len(frequencies) == len(phases)\n",
    "    assert len(amplitudes) == len(phases)\n",
    "    n = noise*np.random.randn(len(t))\n",
    "    return t, n+sum([A*np.cos(2*np.pi*f*t+p) for (A,f,p) in zip(amplitudes, frequencies, phases)])"
   ]
  },
  {
   "cell_type": "code",
   "execution_count": 45,
   "metadata": {},
   "outputs": [
    {
     "name": "stderr",
     "output_type": "stream",
     "text": [
      "/tmp/ipykernel_49995/3158994771.py:4: DeprecationWarning: This function is deprecated. Please call randint(0, 1 + 1) instead\n",
      "  noise = rs.uniform(-2, 2, size=num_samples) * rs.random_integers(0,1, size=num_samples)\n"
     ]
    }
   ],
   "source": [
    "def generate_database(num_samples:int, T:float, num_windows:int):\n",
    "    A = rs.uniform(-4, 4, size=num_samples)\n",
    "    phase = np.pi * rs.random(num_samples)\n",
    "    noise = rs.uniform(-2, 2, size=num_samples) * rs.random_integers(0,1, size=num_samples)\n",
    "    frequencies = rs.uniform(0, 20000, size=num_samples) \n",
    "    features = np.zeros((num_samples, num_windows))\n",
    "    labels = np.zeros(num_samples, dtype=np.int32)\n",
    "    for i in range(num_samples):\n",
    "        _, signal = generate_noisy_signal(sample_rate.value, A[i:i+1], frequencies[i:i+1],\n",
    "                                          phase[i:i+1],noise[i:i+1], T)\n",
    "        features[i] = extract_features(signal, num_windows, sample_rate.value)\n",
    "        labels[i] = 1 + np.int32(frequencies[i] > 8e3)\n",
    "    target_map = {0:\"low\", 1:\"high\"}\n",
    "    feature_names = [f\"Signal amplitude integrated in frequency window {i}\" for i in range(num_windows)]\n",
    "\n",
    "    return features, labels, feature_names, target_map\n",
    "\n",
    "def extract_features(signal:npt.NDArray[np.float64], N:int, sampling_frequency:int):\n",
    "    rfft = np.fft.rfft(signal)\n",
    "    f_per_band = len(rfft)//N\n",
    "    rem = len(rfft) % N\n",
    "    freq_per_band = np.full(N, f_per_band, dtype=np.int32)\n",
    "    freq_per_band[:rem]+=1\n",
    "    offsets= np.zeros(N+1, dtype=np.int32)\n",
    "    offsets[1:] = np.cumsum(freq_per_band)\n",
    "    RMS_amplitude = np.zeros(N, dtype=np.float64)\n",
    "    mag = 1/len(signal) * np.abs(rfft)\n",
    "    for i in range(N):\n",
    "        RMS_amplitude[i] = np.sqrt(1/(offsets[i+1]-offsets[i])*np.sum(mag[offsets[i]:offsets[i+1]]**2))\n",
    "    return RMS_amplitude\n",
    "\n",
    "T = 0.1\n",
    "num_samples = 3000\n",
    "num_windows = 25\n",
    "features, labels, feature_names, target_map = generate_database(T=T, num_samples=num_samples, num_windows=num_windows)\n",
    "X_train, X_test, y_train, y_test = train_test_split(features, labels, test_size=0.33, random_state=random_state)\n"
   ]
  },
  {
   "cell_type": "code",
   "execution_count": 46,
   "metadata": {},
   "outputs": [
    {
     "data": {
      "application/vnd.jupyter.widget-view+json": {
       "model_id": "09be9d6122664379a1f8118bcce7b149",
       "version_major": 2,
       "version_minor": 0
      },
      "text/plain": [
       "interactive(children=(FloatSlider(value=2.0, description='Amplitude of wave 1', max=4.0, style=SliderStyle(des…"
      ]
     },
     "metadata": {},
     "output_type": "display_data"
    }
   ],
   "source": [
    "%matplotlib inline\n",
    "from sklearn.neighbors import KNeighborsClassifier\n",
    "\n",
    "@widgets.interact(\n",
    "    A=widgets.FloatSlider(2, min=0, max=4, description=\"Amplitude of wave 1\", style=ws),\n",
    "    B=widgets.FloatSlider(3, min=0, max=4, description=\"Amplitude of wave 2\", style=ws),\n",
    "    fA=widgets.IntSlider(100, min=20, max=20000, description=\"Frequency of wave 1\", style=ws),\n",
    "    fB=widgets.IntSlider(10000, min=20, max=20000, description=\"Frequency of wave 2\", style=ws),\n",
    "    noise=widgets.FloatSlider(1, min=0, max=4, description=\"Amplitude of noise\", style=ws),\n",
    "    K=widgets.IntSlider(5,1,10, description=\"Num hidden layers (of size 10)\"),\n",
    "    method=widgets.Select(options=['sgd', \"adam\", \"lfbgs\"], value='sgd',\n",
    "                           description='Method for weight optimization:',\n",
    "                           disabled=False))\n",
    "def generate_sound(A: float, B:float, fA:float, fB:float, noise: float, method:str, K:int):\n",
    "    T = 2\n",
    "    pA, pB = 0, 0\n",
    "    _, signal = generate_noisy_signal(sample_rate.value, np.array([A, B]), np.array([fA, fB]), np.array([pA, pB]),\n",
    "                                      noise=noise, T=T)\n",
    "    audio = Audio(signal, rate=sample_rate.value, autoplay=True)\n",
    "    display(audio)\n",
    "    target_labels = list(target_map.keys())\n",
    "    \n",
    "    hidden_layers = np.full(K, 2)\n",
    "    print(labels)\n",
    "    clf = MLPClassifier(solver=method, hidden_layer_sizes=hidden_layers, random_state=random_state,\n",
    "                        activation=\"relu\")\n",
    "    clf.fit(X_train, y_train)\n",
    "\n",
    "    predicted_label = clf.predict(X_test)\n",
    "    print(predicted_label)\n"
   ]
  },
  {
   "cell_type": "code",
   "execution_count": null,
   "metadata": {},
   "outputs": [],
   "source": []
  },
  {
   "cell_type": "code",
   "execution_count": null,
   "metadata": {},
   "outputs": [],
   "source": []
  }
 ],
 "metadata": {
  "kernelspec": {
   "display_name": "work-env",
   "language": "python",
   "name": "python3"
  },
  "language_info": {
   "codemirror_mode": {
    "name": "ipython",
    "version": 3
   },
   "file_extension": ".py",
   "mimetype": "text/x-python",
   "name": "python",
   "nbconvert_exporter": "python",
   "pygments_lexer": "ipython3",
   "version": "3.10.8"
  },
  "orig_nbformat": 4,
  "vscode": {
   "interpreter": {
    "hash": "0a82da2aa2fcafa3b3405194ad8c9ca9599eb5e8c5eb40e388ca8afe6fe19964"
   }
  }
 },
 "nbformat": 4,
 "nbformat_minor": 2
}
