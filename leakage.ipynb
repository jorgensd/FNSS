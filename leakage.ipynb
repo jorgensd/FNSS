{
 "cells": [
  {
   "attachments": {},
   "cell_type": "markdown",
   "metadata": {},
   "source": [
    "# Spectral leakage - non-periodic signals\n",
    "In many real world applications, we do not have measurements that are perfectly periodic.\n",
    "Consider the the following signal $\\sin(2\\pi t)$, $t\\in[0, T]$.\n",
    "If $T=[1,2,\\dots]$, the signal is perfectly periodic.\n",
    "However, changing the period of the signal such that the sampled data is not periodic, results in smearing of the FFT amplitudes.\n",
    "To counteract this behavior, we can use [windowing](https://en.wikipedia.org/wiki/Window_function).\n",
    "We use the Hamming window to illustrate this"
   ]
  },
  {
   "cell_type": "code",
   "execution_count": 25,
   "metadata": {},
   "outputs": [
    {
     "data": {
      "application/vnd.jupyter.widget-view+json": {
       "model_id": "bf0f831f5a67496aa29218e475f89090",
       "version_major": 2,
       "version_minor": 0
      },
      "text/plain": [
       "interactive(children=(FloatSlider(value=5.3, description='T', max=10.0, min=5.0), IntSlider(value=15, descript…"
      ]
     },
     "metadata": {},
     "output_type": "display_data"
    }
   ],
   "source": [
    "from ipywidgets import widgets\n",
    "import numpy as np\n",
    "import matplotlib.pyplot as plt\n",
    "\n",
    "@widgets.interact(\n",
    "    T=widgets.FloatSlider(5.3, min=5, max=10), sampling_rate=(10, 30), frequency=(1,5))\n",
    "def FFT_hamming(T:float=2, sampling_rate:int=15, frequency:float=1):\n",
    "    ts = np.linspace(0, T, int(T*sampling_rate), endpoint=False)\n",
    "    signal = np.cos(2*np.pi*ts*frequency)\n",
    "\n",
    "    hamming = np.hamming(len(signal))\n",
    "\n",
    "    plt.figure()\n",
    "    plt.subplot(211)\n",
    "    plt.plot(ts, hamming, \"-ms\", label=\"Hamming window\")\n",
    "    plt.plot(ts, hamming*signal, \"--bo\", label=\"Hamming Signal\")\n",
    "    plt.plot(ts, signal, \"--r\", label=\"Signal\")\n",
    "    plt.legend()\n",
    "\n",
    "    fft_ham = np.fft.rfft(hamming*signal, n=len(signal))\n",
    "    frequencies_ham = np.fft.rfftfreq(len(signal), 1./sampling_rate)\n",
    "    plt.subplot(212)\n",
    "\n",
    "    fft = np.fft.rfft(signal, n=len(signal))\n",
    "    frequencies = np.fft.rfftfreq(len(signal), 1./sampling_rate)\n",
    "\n",
    "    plt.stem(frequencies, np.abs(fft)/len(signal), linefmt=\"r-\", markerfmt=\"rs\", basefmt=\"r\", label=\"FFT\")\n",
    "    plt.stem(frequencies_ham, np.abs(fft_ham)/len(signal), linefmt=\"b-\", markerfmt=\"bo\", basefmt=\"b\",\n",
    "     label=\"FFT Hamming\")\n",
    "\n",
    "    plt.legend()\n",
    "    plt.grid()\n",
    "    plt.show()\n",
    "\n"
   ]
  },
  {
   "cell_type": "markdown",
   "metadata": {},
   "source": [
    "## Exercise\n",
    "1. Compute the FFT of a non-periodic signal (including noise)\n",
    "2. Compare the results with and without windowing"
   ]
  },
  {
   "cell_type": "markdown",
   "metadata": {},
   "source": []
  }
 ],
 "metadata": {
  "kernelspec": {
   "display_name": "work-env",
   "language": "python",
   "name": "python3"
  },
  "language_info": {
   "codemirror_mode": {
    "name": "ipython",
    "version": 3
   },
   "file_extension": ".py",
   "mimetype": "text/x-python",
   "name": "python",
   "nbconvert_exporter": "python",
   "pygments_lexer": "ipython3",
   "version": "3.10.8"
  },
  "orig_nbformat": 4,
  "vscode": {
   "interpreter": {
    "hash": "0a82da2aa2fcafa3b3405194ad8c9ca9599eb5e8c5eb40e388ca8afe6fe19964"
   }
  }
 },
 "nbformat": 4,
 "nbformat_minor": 2
}
